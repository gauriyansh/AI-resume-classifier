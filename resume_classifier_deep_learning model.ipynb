{
 "cells": [
  {
   "cell_type": "code",
   "execution_count": 10,
   "id": "9e5136ba-9244-4c6f-ba45-abd04888d4d2",
   "metadata": {},
   "outputs": [
    {
     "name": "stdout",
     "output_type": "stream",
     "text": [
      "Epoch 1/20\n",
      "42/42 [==============================] - 1s 10ms/step - loss: 0.4657 - accuracy: 0.9513 - val_loss: 0.1627 - val_accuracy: 1.0000\n",
      "Epoch 2/20\n",
      "42/42 [==============================] - 0s 4ms/step - loss: 0.0627 - accuracy: 1.0000 - val_loss: 0.0088 - val_accuracy: 1.0000\n",
      "Epoch 3/20\n",
      "42/42 [==============================] - 0s 4ms/step - loss: 0.0078 - accuracy: 1.0000 - val_loss: 0.0025 - val_accuracy: 1.0000\n",
      "Epoch 4/20\n",
      "42/42 [==============================] - 0s 5ms/step - loss: 0.0031 - accuracy: 1.0000 - val_loss: 0.0012 - val_accuracy: 1.0000\n",
      "Epoch 5/20\n",
      "42/42 [==============================] - 0s 4ms/step - loss: 0.0017 - accuracy: 1.0000 - val_loss: 6.3652e-04 - val_accuracy: 1.0000\n",
      "Epoch 6/20\n",
      "42/42 [==============================] - 0s 4ms/step - loss: 0.0013 - accuracy: 1.0000 - val_loss: 3.8214e-04 - val_accuracy: 1.0000\n",
      "Epoch 7/20\n",
      "42/42 [==============================] - 0s 4ms/step - loss: 7.9246e-04 - accuracy: 1.0000 - val_loss: 2.4502e-04 - val_accuracy: 1.0000\n",
      "Epoch 8/20\n",
      "42/42 [==============================] - 0s 4ms/step - loss: 6.0514e-04 - accuracy: 1.0000 - val_loss: 1.7062e-04 - val_accuracy: 1.0000\n",
      "Epoch 9/20\n",
      "42/42 [==============================] - 0s 4ms/step - loss: 3.9298e-04 - accuracy: 1.0000 - val_loss: 1.2414e-04 - val_accuracy: 1.0000\n",
      "Epoch 10/20\n",
      "42/42 [==============================] - 0s 4ms/step - loss: 3.2066e-04 - accuracy: 1.0000 - val_loss: 9.3590e-05 - val_accuracy: 1.0000\n",
      "Epoch 11/20\n",
      "42/42 [==============================] - 0s 4ms/step - loss: 2.4440e-04 - accuracy: 1.0000 - val_loss: 7.2710e-05 - val_accuracy: 1.0000\n",
      "Epoch 12/20\n",
      "42/42 [==============================] - 0s 4ms/step - loss: 1.9219e-04 - accuracy: 1.0000 - val_loss: 5.7469e-05 - val_accuracy: 1.0000\n",
      "Epoch 13/20\n",
      "42/42 [==============================] - 0s 4ms/step - loss: 2.3092e-04 - accuracy: 1.0000 - val_loss: 4.5123e-05 - val_accuracy: 1.0000\n",
      "Epoch 14/20\n",
      "42/42 [==============================] - 0s 4ms/step - loss: 1.7829e-04 - accuracy: 1.0000 - val_loss: 3.6118e-05 - val_accuracy: 1.0000\n",
      "Epoch 15/20\n",
      "42/42 [==============================] - 0s 4ms/step - loss: 1.1820e-04 - accuracy: 1.0000 - val_loss: 2.9888e-05 - val_accuracy: 1.0000\n",
      "Epoch 16/20\n",
      "42/42 [==============================] - 0s 4ms/step - loss: 1.4547e-04 - accuracy: 1.0000 - val_loss: 2.4346e-05 - val_accuracy: 1.0000\n",
      "Epoch 17/20\n",
      "42/42 [==============================] - 0s 4ms/step - loss: 9.7948e-05 - accuracy: 1.0000 - val_loss: 2.0314e-05 - val_accuracy: 1.0000\n",
      "Epoch 18/20\n",
      "42/42 [==============================] - 0s 4ms/step - loss: 1.0520e-04 - accuracy: 1.0000 - val_loss: 1.7263e-05 - val_accuracy: 1.0000\n",
      "Epoch 19/20\n",
      "42/42 [==============================] - 0s 4ms/step - loss: 6.1529e-05 - accuracy: 1.0000 - val_loss: 1.5048e-05 - val_accuracy: 1.0000\n",
      "Epoch 20/20\n",
      "42/42 [==============================] - 0s 4ms/step - loss: 6.9550e-05 - accuracy: 1.0000 - val_loss: 1.3153e-05 - val_accuracy: 1.0000\n",
      "6/6 [==============================] - 0s 17ms/step - loss: 1.3153e-05 - accuracy: 1.0000\n",
      "\n",
      "Test Accuracy: 100.00%\n",
      "6/6 [==============================] - 0s 2ms/step\n",
      "\n",
      "Classification Report:\n",
      "\n",
      "              precision    recall  f1-score   support\n",
      "\n",
      "           0       1.00      1.00      1.00        70\n",
      "           1       1.00      1.00      1.00        95\n",
      "\n",
      "    accuracy                           1.00       165\n",
      "   macro avg       1.00      1.00      1.00       165\n",
      "weighted avg       1.00      1.00      1.00       165\n",
      "\n"
     ]
    }
   ],
   "source": [
    "# STEP 1: Import libraries\n",
    "import pandas as pd\n",
    "import numpy as np\n",
    "from sklearn.model_selection import train_test_split\n",
    "from sklearn.feature_extraction.text import TfidfVectorizer\n",
    "from sklearn.preprocessing import LabelEncoder\n",
    "from sklearn.metrics import classification_report\n",
    "\n",
    "from tensorflow.keras.models import Sequential\n",
    "from tensorflow.keras.layers import Dense, Dropout\n",
    "from tensorflow.keras.optimizers import Adam\n",
    "\n",
    "# STEP 2: Load dataset\n",
    "file_path = r'C:\\Users\\GAURIYANSH\\Downloads\\enhanced_balanced_dataset.xlsx'\n",
    "df = pd.read_excel(file_path)\n",
    "\n",
    "# STEP 3: Combine text columns into one feature\n",
    "df['combined_text'] = df['Skills'] + ' ' + df['Summary']\n",
    "\n",
    "# STEP 4: Vectorize text using TF-IDF\n",
    "vectorizer = TfidfVectorizer(max_features=1000)\n",
    "X = vectorizer.fit_transform(df['combined_text']).toarray()\n",
    "\n",
    "# STEP 5: Encode labels\n",
    "label_encoder = LabelEncoder()\n",
    "y = label_encoder.fit_transform(df['Classified'])  # \"Suitable\" -> 1, \"Not Suitable\" -> 0\n",
    "\n",
    "# STEP 6: Train-test split\n",
    "X_train, X_test, y_train, y_test = train_test_split(X, y, test_size=0.2, random_state=42)\n",
    "\n",
    "# STEP 7: Define the model\n",
    "model = Sequential([\n",
    "    Dense(128, activation='relu', input_shape=(X_train.shape[1],)),\n",
    "    Dropout(0.3),\n",
    "    Dense(64, activation='relu'),\n",
    "    Dropout(0.3),\n",
    "    Dense(1, activation='sigmoid')  # For binary classification\n",
    "])\n",
    "\n",
    "# STEP 8: Compile the model\n",
    "model.compile(optimizer=Adam(learning_rate=0.001), loss='binary_crossentropy', metrics=['accuracy'])\n",
    "\n",
    "# STEP 9: Train the model\n",
    "history = model.fit(X_train, y_train, epochs=20, batch_size=16, validation_data=(X_test, y_test))\n",
    "\n",
    "# STEP 10: Evaluate the model\n",
    "loss, accuracy = model.evaluate(X_test, y_test)\n",
    "print(f\"\\nTest Accuracy: {accuracy * 100:.2f}%\")\n",
    "\n",
    "# STEP 11: Print classification report\n",
    "y_pred = (model.predict(X_test) > 0.5).astype(int)\n",
    "print(\"\\nClassification Report:\\n\")\n",
    "print(classification_report(y_test, y_pred))\n"
   ]
  },
  {
   "cell_type": "code",
   "execution_count": 11,
   "id": "f8b5a45e-0664-4ee6-9809-bfc3bbcaa70d",
   "metadata": {},
   "outputs": [
    {
     "name": "stdout",
     "output_type": "stream",
     "text": [
      "6/6 [==============================] - 0s 2ms/step\n",
      "Confusion Matrix:\n",
      "[[70  0]\n",
      " [ 0 95]]\n",
      "Classification Report:\n",
      "              precision    recall  f1-score   support\n",
      "\n",
      "           0       1.00      1.00      1.00        70\n",
      "           1       1.00      1.00      1.00        95\n",
      "\n",
      "    accuracy                           1.00       165\n",
      "   macro avg       1.00      1.00      1.00       165\n",
      "weighted avg       1.00      1.00      1.00       165\n",
      "\n"
     ]
    }
   ],
   "source": [
    "from sklearn.metrics import confusion_matrix, classification_report\n",
    "y_pred = (model.predict(X_test) > 0.5).astype(int)  # Convert probabilities to binary labels\n",
    "conf_matrix = confusion_matrix(y_test, y_pred)\n",
    "print(\"Confusion Matrix:\")\n",
    "print(conf_matrix)\n",
    "print(\"Classification Report:\")\n",
    "print(classification_report(y_test, y_pred))\n",
    "\n"
   ]
  },
  {
   "cell_type": "code",
   "execution_count": 9,
   "id": "ad0cb78c-db6a-4f52-affc-90f84ab565a8",
   "metadata": {},
   "outputs": [
    {
     "name": "stdout",
     "output_type": "stream",
     "text": [
      "Class Distribution in Training Data: {0.0: 341, 1.0: 316}\n"
     ]
    }
   ],
   "source": [
    "unique, counts = np.unique(y_train, return_counts=True)\n",
    "print(\"Class Distribution in Training Data:\", dict(zip(unique, counts)))\n"
   ]
  }
 ],
 "metadata": {
  "kernelspec": {
   "display_name": "Python 3.8",
   "language": "python",
   "name": "python38"
  },
  "language_info": {
   "codemirror_mode": {
    "name": "ipython",
    "version": 3
   },
   "file_extension": ".py",
   "mimetype": "text/x-python",
   "name": "python",
   "nbconvert_exporter": "python",
   "pygments_lexer": "ipython3",
   "version": "3.8.10"
  }
 },
 "nbformat": 4,
 "nbformat_minor": 5
}
